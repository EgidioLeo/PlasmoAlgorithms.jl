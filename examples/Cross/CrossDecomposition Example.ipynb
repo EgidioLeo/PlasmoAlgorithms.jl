{
 "cells": [
  {
   "cell_type": "markdown",
   "metadata": {},
   "source": [
    "# Cross Decomposition Example\n",
    "\n",
    "$$\n",
    "\\begin{array}{ll}\n",
    "Min & x_1 + 2x_2 + 3y + 4w \\\\\n",
    "s.t. & x_1 +3y \\geq 6 \\\\\n",
    "& x_2 + w \\geq 7 \\\\\n",
    "\\end{array}\n",
    "$$"
   ]
  },
  {
   "cell_type": "code",
   "execution_count": 2,
   "metadata": {},
   "outputs": [
    {
     "ename": "LoadError",
     "evalue": "\u001b[91mUndefVarError: m not defined\u001b[39m",
     "output_type": "error",
     "traceback": [
      "\u001b[91mUndefVarError: m not defined\u001b[39m",
      "",
      "Stacktrace:",
      " [1] \u001b[1mmacro expansion\u001b[22m\u001b[22m at \u001b[1m/home/bbrunaud/.julia/v0.6/JuMP/src/macros.jl:252\u001b[22m\u001b[22m [inlined]",
      " [2] \u001b[1manonymous\u001b[22m\u001b[22m at \u001b[1m./<missing>:?\u001b[22m\u001b[22m",
      " [3] \u001b[1minclude_string\u001b[22m\u001b[22m\u001b[1m(\u001b[22m\u001b[22m::String, ::String\u001b[1m)\u001b[22m\u001b[22m at \u001b[1m./loading.jl:515\u001b[22m\u001b[22m"
     ]
    }
   ],
   "source": [
    "using JuMP\n",
    "using Gurobi\n"
   ]
  },
  {
   "cell_type": "code",
   "execution_count": 9,
   "metadata": {},
   "outputs": [
    {
     "name": "stdout",
     "output_type": "stream",
     "text": [
      "x = [1.0, 5.0]\n",
      "y = 0.0\n",
      "w = 0.0\n",
      "Objective = 11.0\n"
     ]
    }
   ],
   "source": [
    "m = Model(solver=GurobiSolver(OutputFlag=0))\n",
    "@variable(m, x[1:2] >= 0)\n",
    "@variable(m, y >= 0)\n",
    "@variable(m, w >= 0)\n",
    "@constraint(m, x[1] + x[2] + y >= 6)\n",
    "@constraint(m, -3x[1] + 2x[2] + w >= 7)\n",
    "@objective(m, Min, x[1] + 2x[2] + 3y + 4w)\n",
    "\n",
    "solve(m)\n",
    "println(\"x = $(getvalue(x))\")\n",
    "println(\"y = $(getvalue(y))\")\n",
    "println(\"w = $(getvalue(w))\")\n",
    "println(\"Objective = $(getobjectivevalue(m))\")"
   ]
  },
  {
   "cell_type": "code",
   "execution_count": 10,
   "metadata": {},
   "outputs": [
    {
     "name": "stdout",
     "output_type": "stream",
     "text": [
      "Min x[1] + 2 x[2] + 3 y + 4 w\n",
      "Subject to\n",
      " x[1] + x[2] + y ≥ 6\n",
      " -3 x[1] + 2 x[2] + w ≥ 7\n",
      " x[i] ≥ 0 ∀ i ∈ {1,2}\n",
      " y ≥ 0\n",
      " w ≥ 0\n"
     ]
    }
   ],
   "source": [
    "print(m)"
   ]
  },
  {
   "cell_type": "markdown",
   "metadata": {},
   "source": [
    "## Benders Master\n",
    "\n",
    "$$\n",
    "\\begin{array}{ll}\n",
    "Min & x_1 + 2x_2 + \\theta_1 + \\theta_2 \\\\\n",
    "s.t. & \\theta_1 \\geq \\theta_1^k + \\mu (x_1 - x_1^k) \\\\\n",
    " & \\theta_2 \\geq \\theta_2^k + \\mu (x_2 - x_2^k)\n",
    "\\end{array}\n",
    "$$"
   ]
  }
 ],
 "metadata": {
  "kernelspec": {
   "display_name": "Julia 0.6.0",
   "language": "julia",
   "name": "julia-0.6"
  },
  "language_info": {
   "file_extension": ".jl",
   "mimetype": "application/julia",
   "name": "julia",
   "version": "0.6.0"
  }
 },
 "nbformat": 4,
 "nbformat_minor": 2
}
